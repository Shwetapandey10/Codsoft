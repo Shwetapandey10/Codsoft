{
 "cells": [
  {
   "cell_type": "code",
   "execution_count": 1,
   "id": "2554e21a",
   "metadata": {
    "_cell_guid": "b1076dfc-b9ad-4769-8c92-a6c4dae69d19",
    "_uuid": "8f2839f25d086af736a60e9eeb907d3b93b6e0e5",
    "execution": {
     "iopub.execute_input": "2023-12-19T02:58:21.920029Z",
     "iopub.status.busy": "2023-12-19T02:58:21.919482Z",
     "iopub.status.idle": "2023-12-19T02:58:22.865193Z",
     "shell.execute_reply": "2023-12-19T02:58:22.863962Z"
    },
    "papermill": {
     "duration": 0.958651,
     "end_time": "2023-12-19T02:58:22.867860",
     "exception": false,
     "start_time": "2023-12-19T02:58:21.909209",
     "status": "completed"
    },
    "tags": []
   },
   "outputs": [
    {
     "name": "stdout",
     "output_type": "stream",
     "text": [
      "/kaggle/input/test-file/tested.csv\n"
     ]
    }
   ],
   "source": [
    "# This Python 3 environment comes with many helpful analytics libraries installed\n",
    "# It is defined by the kaggle/python Docker image: https://github.com/kaggle/docker-python\n",
    "# For example, here's several helpful packages to load\n",
    "\n",
    "import numpy as np # linear algebra\n",
    "import pandas as pd # data processing, CSV file I/O (e.g. pd.read_csv)\n",
    "\n",
    "# Input data files are available in the read-only \"../input/\" directory\n",
    "# For example, running this (by clicking run or pressing Shift+Enter) will list all files under the input directory\n",
    "\n",
    "import os\n",
    "for dirname, _, filenames in os.walk('/kaggle/input'):\n",
    "    for filename in filenames:\n",
    "        print(os.path.join(dirname, filename))\n",
    "\n",
    "# You can write up to 20GB to the current directory (/kaggle/working/) that gets preserved as output when you create a version using \"Save & Run All\" \n",
    "# You can also write temporary files to /kaggle/temp/, but they won't be saved outside of the current session"
   ]
  },
  {
   "cell_type": "code",
   "execution_count": 2,
   "id": "3c3d396b",
   "metadata": {
    "execution": {
     "iopub.execute_input": "2023-12-19T02:58:22.886419Z",
     "iopub.status.busy": "2023-12-19T02:58:22.885108Z",
     "iopub.status.idle": "2023-12-19T02:58:24.408895Z",
     "shell.execute_reply": "2023-12-19T02:58:24.407889Z"
    },
    "papermill": {
     "duration": 1.536687,
     "end_time": "2023-12-19T02:58:24.412499",
     "exception": false,
     "start_time": "2023-12-19T02:58:22.875812",
     "status": "completed"
    },
    "tags": []
   },
   "outputs": [],
   "source": [
    "import pandas as pd \n",
    "import numpy as np\n",
    "import matplotlib.pyplot as plt\n",
    "import seaborn as sns\n"
   ]
  },
  {
   "cell_type": "markdown",
   "id": "eaf85619",
   "metadata": {
    "papermill": {
     "duration": 0.007898,
     "end_time": "2023-12-19T02:58:24.428632",
     "exception": false,
     "start_time": "2023-12-19T02:58:24.420734",
     "status": "completed"
    },
    "tags": []
   },
   "source": [
    "****TITANIC SURVIVAL PREDICTION ****"
   ]
  },
  {
   "cell_type": "markdown",
   "id": "864306b5",
   "metadata": {
    "papermill": {
     "duration": 0.007411,
     "end_time": "2023-12-19T02:58:24.444018",
     "exception": false,
     "start_time": "2023-12-19T02:58:24.436607",
     "status": "completed"
    },
    "tags": []
   },
   "source": [
    "**TABLE OF CONTENT**\n",
    "\n",
    "\n",
    "* Importing Libraries and Loading Data\n",
    " \n",
    "* Data Information and Data Cleaning\n",
    " \n",
    "* Data Visualisation\n",
    "\n"
   ]
  },
  {
   "cell_type": "code",
   "execution_count": 3,
   "id": "4f606e04",
   "metadata": {
    "execution": {
     "iopub.execute_input": "2023-12-19T02:58:24.461544Z",
     "iopub.status.busy": "2023-12-19T02:58:24.461154Z",
     "iopub.status.idle": "2023-12-19T02:58:24.481801Z",
     "shell.execute_reply": "2023-12-19T02:58:24.480846Z"
    },
    "papermill": {
     "duration": 0.032999,
     "end_time": "2023-12-19T02:58:24.484793",
     "exception": false,
     "start_time": "2023-12-19T02:58:24.451794",
     "status": "completed"
    },
    "tags": []
   },
   "outputs": [],
   "source": [
    "df= pd.read_csv('/kaggle/input/test-file/tested.csv')"
   ]
  },
  {
   "cell_type": "code",
   "execution_count": 4,
   "id": "3213e278",
   "metadata": {
    "execution": {
     "iopub.execute_input": "2023-12-19T02:58:24.503104Z",
     "iopub.status.busy": "2023-12-19T02:58:24.502715Z",
     "iopub.status.idle": "2023-12-19T02:58:24.506950Z",
     "shell.execute_reply": "2023-12-19T02:58:24.505841Z"
    },
    "papermill": {
     "duration": 0.016512,
     "end_time": "2023-12-19T02:58:24.509241",
     "exception": false,
     "start_time": "2023-12-19T02:58:24.492729",
     "status": "completed"
    },
    "tags": []
   },
   "outputs": [],
   "source": [
    "# Dataset Overview"
   ]
  },
  {
   "cell_type": "code",
   "execution_count": 5,
   "id": "5205382c",
   "metadata": {
    "execution": {
     "iopub.execute_input": "2023-12-19T02:58:24.527470Z",
     "iopub.status.busy": "2023-12-19T02:58:24.526751Z",
     "iopub.status.idle": "2023-12-19T02:58:24.557998Z",
     "shell.execute_reply": "2023-12-19T02:58:24.556911Z"
    },
    "papermill": {
     "duration": 0.043081,
     "end_time": "2023-12-19T02:58:24.560340",
     "exception": false,
     "start_time": "2023-12-19T02:58:24.517259",
     "status": "completed"
    },
    "tags": []
   },
   "outputs": [
    {
     "data": {
      "text/html": [
       "<div>\n",
       "<style scoped>\n",
       "    .dataframe tbody tr th:only-of-type {\n",
       "        vertical-align: middle;\n",
       "    }\n",
       "\n",
       "    .dataframe tbody tr th {\n",
       "        vertical-align: top;\n",
       "    }\n",
       "\n",
       "    .dataframe thead th {\n",
       "        text-align: right;\n",
       "    }\n",
       "</style>\n",
       "<table border=\"1\" class=\"dataframe\">\n",
       "  <thead>\n",
       "    <tr style=\"text-align: right;\">\n",
       "      <th></th>\n",
       "      <th>PassengerId</th>\n",
       "      <th>Survived</th>\n",
       "      <th>Pclass</th>\n",
       "      <th>Name</th>\n",
       "      <th>Sex</th>\n",
       "      <th>Age</th>\n",
       "      <th>SibSp</th>\n",
       "      <th>Parch</th>\n",
       "      <th>Ticket</th>\n",
       "      <th>Fare</th>\n",
       "      <th>Cabin</th>\n",
       "      <th>Embarked</th>\n",
       "    </tr>\n",
       "  </thead>\n",
       "  <tbody>\n",
       "    <tr>\n",
       "      <th>0</th>\n",
       "      <td>892</td>\n",
       "      <td>0</td>\n",
       "      <td>3</td>\n",
       "      <td>Kelly, Mr. James</td>\n",
       "      <td>male</td>\n",
       "      <td>34.5</td>\n",
       "      <td>0</td>\n",
       "      <td>0</td>\n",
       "      <td>330911</td>\n",
       "      <td>7.8292</td>\n",
       "      <td>NaN</td>\n",
       "      <td>Q</td>\n",
       "    </tr>\n",
       "    <tr>\n",
       "      <th>1</th>\n",
       "      <td>893</td>\n",
       "      <td>1</td>\n",
       "      <td>3</td>\n",
       "      <td>Wilkes, Mrs. James (Ellen Needs)</td>\n",
       "      <td>female</td>\n",
       "      <td>47.0</td>\n",
       "      <td>1</td>\n",
       "      <td>0</td>\n",
       "      <td>363272</td>\n",
       "      <td>7.0000</td>\n",
       "      <td>NaN</td>\n",
       "      <td>S</td>\n",
       "    </tr>\n",
       "    <tr>\n",
       "      <th>2</th>\n",
       "      <td>894</td>\n",
       "      <td>0</td>\n",
       "      <td>2</td>\n",
       "      <td>Myles, Mr. Thomas Francis</td>\n",
       "      <td>male</td>\n",
       "      <td>62.0</td>\n",
       "      <td>0</td>\n",
       "      <td>0</td>\n",
       "      <td>240276</td>\n",
       "      <td>9.6875</td>\n",
       "      <td>NaN</td>\n",
       "      <td>Q</td>\n",
       "    </tr>\n",
       "    <tr>\n",
       "      <th>3</th>\n",
       "      <td>895</td>\n",
       "      <td>0</td>\n",
       "      <td>3</td>\n",
       "      <td>Wirz, Mr. Albert</td>\n",
       "      <td>male</td>\n",
       "      <td>27.0</td>\n",
       "      <td>0</td>\n",
       "      <td>0</td>\n",
       "      <td>315154</td>\n",
       "      <td>8.6625</td>\n",
       "      <td>NaN</td>\n",
       "      <td>S</td>\n",
       "    </tr>\n",
       "    <tr>\n",
       "      <th>4</th>\n",
       "      <td>896</td>\n",
       "      <td>1</td>\n",
       "      <td>3</td>\n",
       "      <td>Hirvonen, Mrs. Alexander (Helga E Lindqvist)</td>\n",
       "      <td>female</td>\n",
       "      <td>22.0</td>\n",
       "      <td>1</td>\n",
       "      <td>1</td>\n",
       "      <td>3101298</td>\n",
       "      <td>12.2875</td>\n",
       "      <td>NaN</td>\n",
       "      <td>S</td>\n",
       "    </tr>\n",
       "  </tbody>\n",
       "</table>\n",
       "</div>"
      ],
      "text/plain": [
       "   PassengerId  Survived  Pclass  \\\n",
       "0          892         0       3   \n",
       "1          893         1       3   \n",
       "2          894         0       2   \n",
       "3          895         0       3   \n",
       "4          896         1       3   \n",
       "\n",
       "                                           Name     Sex   Age  SibSp  Parch  \\\n",
       "0                              Kelly, Mr. James    male  34.5      0      0   \n",
       "1              Wilkes, Mrs. James (Ellen Needs)  female  47.0      1      0   \n",
       "2                     Myles, Mr. Thomas Francis    male  62.0      0      0   \n",
       "3                              Wirz, Mr. Albert    male  27.0      0      0   \n",
       "4  Hirvonen, Mrs. Alexander (Helga E Lindqvist)  female  22.0      1      1   \n",
       "\n",
       "    Ticket     Fare Cabin Embarked  \n",
       "0   330911   7.8292   NaN        Q  \n",
       "1   363272   7.0000   NaN        S  \n",
       "2   240276   9.6875   NaN        Q  \n",
       "3   315154   8.6625   NaN        S  \n",
       "4  3101298  12.2875   NaN        S  "
      ]
     },
     "execution_count": 5,
     "metadata": {},
     "output_type": "execute_result"
    }
   ],
   "source": [
    "df.head()"
   ]
  },
  {
   "cell_type": "code",
   "execution_count": 6,
   "id": "7786beac",
   "metadata": {
    "execution": {
     "iopub.execute_input": "2023-12-19T02:58:24.579071Z",
     "iopub.status.busy": "2023-12-19T02:58:24.578318Z",
     "iopub.status.idle": "2023-12-19T02:58:24.692111Z",
     "shell.execute_reply": "2023-12-19T02:58:24.691199Z"
    },
    "papermill": {
     "duration": 0.125941,
     "end_time": "2023-12-19T02:58:24.694406",
     "exception": false,
     "start_time": "2023-12-19T02:58:24.568465",
     "status": "completed"
    },
    "tags": []
   },
   "outputs": [
    {
     "data": {
      "text/html": [
       "<div>\n",
       "<style scoped>\n",
       "    .dataframe tbody tr th:only-of-type {\n",
       "        vertical-align: middle;\n",
       "    }\n",
       "\n",
       "    .dataframe tbody tr th {\n",
       "        vertical-align: top;\n",
       "    }\n",
       "\n",
       "    .dataframe thead th {\n",
       "        text-align: right;\n",
       "    }\n",
       "</style>\n",
       "<table border=\"1\" class=\"dataframe\">\n",
       "  <thead>\n",
       "    <tr style=\"text-align: right;\">\n",
       "      <th></th>\n",
       "      <th>PassengerId</th>\n",
       "      <th>Survived</th>\n",
       "      <th>Pclass</th>\n",
       "      <th>Age</th>\n",
       "      <th>SibSp</th>\n",
       "      <th>Parch</th>\n",
       "      <th>Fare</th>\n",
       "    </tr>\n",
       "  </thead>\n",
       "  <tbody>\n",
       "    <tr>\n",
       "      <th>count</th>\n",
       "      <td>418.000000</td>\n",
       "      <td>418.000000</td>\n",
       "      <td>418.000000</td>\n",
       "      <td>332.000000</td>\n",
       "      <td>418.000000</td>\n",
       "      <td>418.000000</td>\n",
       "      <td>417.000000</td>\n",
       "    </tr>\n",
       "    <tr>\n",
       "      <th>mean</th>\n",
       "      <td>1100.500000</td>\n",
       "      <td>0.363636</td>\n",
       "      <td>2.265550</td>\n",
       "      <td>30.272590</td>\n",
       "      <td>0.447368</td>\n",
       "      <td>0.392344</td>\n",
       "      <td>35.627188</td>\n",
       "    </tr>\n",
       "    <tr>\n",
       "      <th>std</th>\n",
       "      <td>120.810458</td>\n",
       "      <td>0.481622</td>\n",
       "      <td>0.841838</td>\n",
       "      <td>14.181209</td>\n",
       "      <td>0.896760</td>\n",
       "      <td>0.981429</td>\n",
       "      <td>55.907576</td>\n",
       "    </tr>\n",
       "    <tr>\n",
       "      <th>min</th>\n",
       "      <td>892.000000</td>\n",
       "      <td>0.000000</td>\n",
       "      <td>1.000000</td>\n",
       "      <td>0.170000</td>\n",
       "      <td>0.000000</td>\n",
       "      <td>0.000000</td>\n",
       "      <td>0.000000</td>\n",
       "    </tr>\n",
       "    <tr>\n",
       "      <th>25%</th>\n",
       "      <td>996.250000</td>\n",
       "      <td>0.000000</td>\n",
       "      <td>1.000000</td>\n",
       "      <td>21.000000</td>\n",
       "      <td>0.000000</td>\n",
       "      <td>0.000000</td>\n",
       "      <td>7.895800</td>\n",
       "    </tr>\n",
       "    <tr>\n",
       "      <th>50%</th>\n",
       "      <td>1100.500000</td>\n",
       "      <td>0.000000</td>\n",
       "      <td>3.000000</td>\n",
       "      <td>27.000000</td>\n",
       "      <td>0.000000</td>\n",
       "      <td>0.000000</td>\n",
       "      <td>14.454200</td>\n",
       "    </tr>\n",
       "    <tr>\n",
       "      <th>75%</th>\n",
       "      <td>1204.750000</td>\n",
       "      <td>1.000000</td>\n",
       "      <td>3.000000</td>\n",
       "      <td>39.000000</td>\n",
       "      <td>1.000000</td>\n",
       "      <td>0.000000</td>\n",
       "      <td>31.500000</td>\n",
       "    </tr>\n",
       "    <tr>\n",
       "      <th>max</th>\n",
       "      <td>1309.000000</td>\n",
       "      <td>1.000000</td>\n",
       "      <td>3.000000</td>\n",
       "      <td>76.000000</td>\n",
       "      <td>8.000000</td>\n",
       "      <td>9.000000</td>\n",
       "      <td>512.329200</td>\n",
       "    </tr>\n",
       "  </tbody>\n",
       "</table>\n",
       "</div>"
      ],
      "text/plain": [
       "       PassengerId    Survived      Pclass         Age       SibSp  \\\n",
       "count   418.000000  418.000000  418.000000  332.000000  418.000000   \n",
       "mean   1100.500000    0.363636    2.265550   30.272590    0.447368   \n",
       "std     120.810458    0.481622    0.841838   14.181209    0.896760   \n",
       "min     892.000000    0.000000    1.000000    0.170000    0.000000   \n",
       "25%     996.250000    0.000000    1.000000   21.000000    0.000000   \n",
       "50%    1100.500000    0.000000    3.000000   27.000000    0.000000   \n",
       "75%    1204.750000    1.000000    3.000000   39.000000    1.000000   \n",
       "max    1309.000000    1.000000    3.000000   76.000000    8.000000   \n",
       "\n",
       "            Parch        Fare  \n",
       "count  418.000000  417.000000  \n",
       "mean     0.392344   35.627188  \n",
       "std      0.981429   55.907576  \n",
       "min      0.000000    0.000000  \n",
       "25%      0.000000    7.895800  \n",
       "50%      0.000000   14.454200  \n",
       "75%      0.000000   31.500000  \n",
       "max      9.000000  512.329200  "
      ]
     },
     "execution_count": 6,
     "metadata": {},
     "output_type": "execute_result"
    }
   ],
   "source": [
    "df.describe()"
   ]
  },
  {
   "cell_type": "code",
   "execution_count": 7,
   "id": "153eb4c4",
   "metadata": {
    "execution": {
     "iopub.execute_input": "2023-12-19T02:58:24.713823Z",
     "iopub.status.busy": "2023-12-19T02:58:24.713394Z",
     "iopub.status.idle": "2023-12-19T02:58:24.722917Z",
     "shell.execute_reply": "2023-12-19T02:58:24.721764Z"
    },
    "papermill": {
     "duration": 0.021824,
     "end_time": "2023-12-19T02:58:24.725225",
     "exception": false,
     "start_time": "2023-12-19T02:58:24.703401",
     "status": "completed"
    },
    "tags": []
   },
   "outputs": [
    {
     "data": {
      "text/plain": [
       "PassengerId      0\n",
       "Survived         0\n",
       "Pclass           0\n",
       "Name             0\n",
       "Sex              0\n",
       "Age             86\n",
       "SibSp            0\n",
       "Parch            0\n",
       "Ticket           0\n",
       "Fare             1\n",
       "Cabin          327\n",
       "Embarked         0\n",
       "dtype: int64"
      ]
     },
     "execution_count": 7,
     "metadata": {},
     "output_type": "execute_result"
    }
   ],
   "source": [
    "df.isnull().sum()"
   ]
  },
  {
   "cell_type": "markdown",
   "id": "d935dedb",
   "metadata": {
    "papermill": {
     "duration": 0.008669,
     "end_time": "2023-12-19T02:58:24.742648",
     "exception": false,
     "start_time": "2023-12-19T02:58:24.733979",
     "status": "completed"
    },
    "tags": []
   },
   "source": [
    "#Data Visualization"
   ]
  },
  {
   "cell_type": "code",
   "execution_count": 8,
   "id": "b652ab5e",
   "metadata": {
    "execution": {
     "iopub.execute_input": "2023-12-19T02:58:24.763132Z",
     "iopub.status.busy": "2023-12-19T02:58:24.762369Z",
     "iopub.status.idle": "2023-12-19T02:58:25.161463Z",
     "shell.execute_reply": "2023-12-19T02:58:25.160354Z"
    },
    "papermill": {
     "duration": 0.412536,
     "end_time": "2023-12-19T02:58:25.163993",
     "exception": false,
     "start_time": "2023-12-19T02:58:24.751457",
     "status": "completed"
    },
    "tags": []
   },
   "outputs": [
    {
     "data": {
      "image/png": "[encoded data removed]",
      "text/plain": [
       "<Figure size 640x480 with 1 Axes>"
      ]
     },
     "metadata": {},
     "output_type": "display_data"
    }
   ],
   "source": [
    "sns.barplot(x='Pclass', y='Survived', data=df)\n",
    "plt.title('Survival Rates by Ticket Class')\n",
    "plt.show()"
   ]
  },
  {
   "cell_type": "markdown",
   "id": "3e54cef9",
   "metadata": {
    "papermill": {
     "duration": 0.008696,
     "end_time": "2023-12-19T02:58:25.182001",
     "exception": false,
     "start_time": "2023-12-19T02:58:25.173305",
     "status": "completed"
    },
    "tags": []
   },
   "source": [
    "#Age Distribution"
   ]
  },
  {
   "cell_type": "code",
   "execution_count": 9,
   "id": "e800ee6d",
   "metadata": {
    "execution": {
     "iopub.execute_input": "2023-12-19T02:58:25.203167Z",
     "iopub.status.busy": "2023-12-19T02:58:25.202759Z",
     "iopub.status.idle": "2023-12-19T02:58:25.567928Z",
     "shell.execute_reply": "2023-12-19T02:58:25.566485Z"
    },
    "papermill": {
     "duration": 0.379498,
     "end_time": "2023-12-19T02:58:25.570482",
     "exception": false,
     "start_time": "2023-12-19T02:58:25.190984",
     "status": "completed"
    },
    "tags": []
   },
   "outputs": [
    {
     "data": {
      "image/png": "[encoded data removed]",
      "text/plain": [
       "<Figure size 640x480 with 1 Axes>"
      ]
     },
     "metadata": {},
     "output_type": "display_data"
    }
   ],
   "source": [
    "\n",
    "plt.hist(df['Age'].dropna(), bins=30, color='skyblue', edgecolor='black')\n",
    "plt.title('Age Distribution')\n",
    "plt.xlabel('Age')\n",
    "plt.ylabel('Frequency')\n",
    "plt.show()\n"
   ]
  },
  {
   "cell_type": "code",
   "execution_count": 10,
   "id": "b498fd70",
   "metadata": {
    "execution": {
     "iopub.execute_input": "2023-12-19T02:58:25.591546Z",
     "iopub.status.busy": "2023-12-19T02:58:25.591101Z",
     "iopub.status.idle": "2023-12-19T02:58:25.595954Z",
     "shell.execute_reply": "2023-12-19T02:58:25.594768Z"
    },
    "papermill": {
     "duration": 0.018101,
     "end_time": "2023-12-19T02:58:25.598250",
     "exception": false,
     "start_time": "2023-12-19T02:58:25.580149",
     "status": "completed"
    },
    "tags": []
   },
   "outputs": [],
   "source": [
    "#Ticket Class Distribution\n"
   ]
  },
  {
   "cell_type": "code",
   "execution_count": 11,
   "id": "515ea72a",
   "metadata": {
    "execution": {
     "iopub.execute_input": "2023-12-19T02:58:25.620099Z",
     "iopub.status.busy": "2023-12-19T02:58:25.619310Z",
     "iopub.status.idle": "2023-12-19T02:58:25.855713Z",
     "shell.execute_reply": "2023-12-19T02:58:25.854812Z"
    },
    "papermill": {
     "duration": 0.249972,
     "end_time": "2023-12-19T02:58:25.857908",
     "exception": false,
     "start_time": "2023-12-19T02:58:25.607936",
     "status": "completed"
    },
    "tags": []
   },
   "outputs": [
    {
     "data": {
      "image/png": "[encoded data removed]",
      "text/plain": [
       "<Figure size 640x480 with 1 Axes>"
      ]
     },
     "metadata": {},
     "output_type": "display_data"
    }
   ],
   "source": [
    "sns.countplot(x='Pclass', data=df)\n",
    "plt.title('Distribution of Ticket Classes')\n",
    "plt.show()"
   ]
  },
  {
   "cell_type": "code",
   "execution_count": 12,
   "id": "c1be10e8",
   "metadata": {
    "execution": {
     "iopub.execute_input": "2023-12-19T02:58:25.880331Z",
     "iopub.status.busy": "2023-12-19T02:58:25.879041Z",
     "iopub.status.idle": "2023-12-19T02:58:25.884615Z",
     "shell.execute_reply": "2023-12-19T02:58:25.883310Z"
    },
    "papermill": {
     "duration": 0.019137,
     "end_time": "2023-12-19T02:58:25.886994",
     "exception": false,
     "start_time": "2023-12-19T02:58:25.867857",
     "status": "completed"
    },
    "tags": []
   },
   "outputs": [],
   "source": [
    "#Fare Distribution"
   ]
  },
  {
   "cell_type": "code",
   "execution_count": 13,
   "id": "b2052050",
   "metadata": {
    "execution": {
     "iopub.execute_input": "2023-12-19T02:58:25.908838Z",
     "iopub.status.busy": "2023-12-19T02:58:25.908371Z",
     "iopub.status.idle": "2023-12-19T02:58:26.239152Z",
     "shell.execute_reply": "2023-12-19T02:58:26.238208Z"
    },
    "papermill": {
     "duration": 0.34527,
     "end_time": "2023-12-19T02:58:26.242084",
     "exception": false,
     "start_time": "2023-12-19T02:58:25.896814",
     "status": "completed"
    },
    "tags": []
   },
   "outputs": [
    {
     "data": {
      "image/png": "[encoded data removed]",
      "text/plain": [
       "<Figure size 640x480 with 1 Axes>"
      ]
     },
     "metadata": {},
     "output_type": "display_data"
    }
   ],
   "source": [
    "plt.hist(df['Fare'], bins=30, color='green', edgecolor='black')\n",
    "plt.title('Fare Distribution')\n",
    "plt.xlabel('Fare')\n",
    "plt.ylabel('Frequency')\n",
    "plt.show()"
   ]
  },
  {
   "cell_type": "code",
   "execution_count": 14,
   "id": "ab448bdf",
   "metadata": {
    "execution": {
     "iopub.execute_input": "2023-12-19T02:58:26.274928Z",
     "iopub.status.busy": "2023-12-19T02:58:26.273889Z",
     "iopub.status.idle": "2023-12-19T02:58:26.279846Z",
     "shell.execute_reply": "2023-12-19T02:58:26.278376Z"
    },
    "papermill": {
     "duration": 0.026342,
     "end_time": "2023-12-19T02:58:26.284031",
     "exception": false,
     "start_time": "2023-12-19T02:58:26.257689",
     "status": "completed"
    },
    "tags": []
   },
   "outputs": [],
   "source": [
    "#Feature Engineering"
   ]
  },
  {
   "cell_type": "code",
   "execution_count": 15,
   "id": "c7a5431a",
   "metadata": {
    "execution": {
     "iopub.execute_input": "2023-12-19T02:58:26.317116Z",
     "iopub.status.busy": "2023-12-19T02:58:26.316625Z",
     "iopub.status.idle": "2023-12-19T02:58:26.327890Z",
     "shell.execute_reply": "2023-12-19T02:58:26.326739Z"
    },
    "papermill": {
     "duration": 0.032226,
     "end_time": "2023-12-19T02:58:26.331259",
     "exception": false,
     "start_time": "2023-12-19T02:58:26.299033",
     "status": "completed"
    },
    "tags": []
   },
   "outputs": [],
   "source": [
    "df['Family_Size'] = df['SibSp'] + df['Parch']\n",
    "df['Title'] = df['Name'].apply(lambda x: x.split(',')[1].split('.')[0].strip())\n"
   ]
  },
  {
   "cell_type": "code",
   "execution_count": 16,
   "id": "b3d9af22",
   "metadata": {
    "execution": {
     "iopub.execute_input": "2023-12-19T02:58:26.364808Z",
     "iopub.status.busy": "2023-12-19T02:58:26.363416Z",
     "iopub.status.idle": "2023-12-19T02:58:26.369812Z",
     "shell.execute_reply": "2023-12-19T02:58:26.368746Z"
    },
    "papermill": {
     "duration": 0.027027,
     "end_time": "2023-12-19T02:58:26.373372",
     "exception": false,
     "start_time": "2023-12-19T02:58:26.346345",
     "status": "completed"
    },
    "tags": []
   },
   "outputs": [],
   "source": [
    "#Encoding Categorical Variables"
   ]
  },
  {
   "cell_type": "code",
   "execution_count": 17,
   "id": "3af4a874",
   "metadata": {
    "execution": {
     "iopub.execute_input": "2023-12-19T02:58:26.398542Z",
     "iopub.status.busy": "2023-12-19T02:58:26.397621Z",
     "iopub.status.idle": "2023-12-19T02:58:26.415250Z",
     "shell.execute_reply": "2023-12-19T02:58:26.414090Z"
    },
    "papermill": {
     "duration": 0.032443,
     "end_time": "2023-12-19T02:58:26.417921",
     "exception": false,
     "start_time": "2023-12-19T02:58:26.385478",
     "status": "completed"
    },
    "tags": []
   },
   "outputs": [],
   "source": [
    "\n",
    "df= pd.get_dummies(df, columns=['Sex', 'Embarked', 'Title'], drop_first=True)\n"
   ]
  },
  {
   "cell_type": "code",
   "execution_count": 18,
   "id": "003dda72",
   "metadata": {
    "execution": {
     "iopub.execute_input": "2023-12-19T02:58:26.441425Z",
     "iopub.status.busy": "2023-12-19T02:58:26.440461Z",
     "iopub.status.idle": "2023-12-19T02:58:26.445507Z",
     "shell.execute_reply": "2023-12-19T02:58:26.444485Z"
    },
    "papermill": {
     "duration": 0.019601,
     "end_time": "2023-12-19T02:58:26.447973",
     "exception": false,
     "start_time": "2023-12-19T02:58:26.428372",
     "status": "completed"
    },
    "tags": []
   },
   "outputs": [],
   "source": [
    "# Model Selection"
   ]
  },
  {
   "cell_type": "code",
   "execution_count": 19,
   "id": "b62cd91c",
   "metadata": {
    "execution": {
     "iopub.execute_input": "2023-12-19T02:58:26.475279Z",
     "iopub.status.busy": "2023-12-19T02:58:26.474509Z",
     "iopub.status.idle": "2023-12-19T02:58:27.106506Z",
     "shell.execute_reply": "2023-12-19T02:58:27.105485Z"
    },
    "papermill": {
     "duration": 0.650517,
     "end_time": "2023-12-19T02:58:27.109713",
     "exception": false,
     "start_time": "2023-12-19T02:58:26.459196",
     "status": "completed"
    },
    "tags": []
   },
   "outputs": [],
   "source": [
    "from sklearn.ensemble import RandomForestClassifier\n",
    "\n",
    "model = RandomForestClassifier(random_state=42)"
   ]
  },
  {
   "cell_type": "code",
   "execution_count": null,
   "id": "ce9179e1",
   "metadata": {
    "papermill": {
     "duration": 0.013942,
     "end_time": "2023-12-19T02:58:27.138901",
     "exception": false,
     "start_time": "2023-12-19T02:58:27.124959",
     "status": "completed"
    },
    "tags": []
   },
   "outputs": [],
   "source": []
  }
 ],
 "metadata": {
  "kaggle": {
   "accelerator": "none",
   "dataSources": [
    {
     "datasetId": 826163,
     "sourceId": 2879186,
     "sourceType": "datasetVersion"
    }
   ],
   "dockerImageVersionId": 30615,
   "isGpuEnabled": false,
   "isInternetEnabled": true,
   "language": "python",
   "sourceType": "notebook"
  },
  "kernelspec": {
   "display_name": "Python 3",
   "language": "python",
   "name": "python3"
  },
  "language_info": {
   "codemirror_mode": {
    "name": "ipython",
    "version": 3
   },
   "file_extension": ".py",
   "mimetype": "text/x-python",
   "name": "python",
   "nbconvert_exporter": "python",
   "pygments_lexer": "ipython3",
   "version": "3.10.12"
  },
  "papermill": {
   "default_parameters": {},
   "duration": 9.815729,
   "end_time": "2023-12-19T02:58:27.874472",
   "environment_variables": {},
   "exception": null,
   "input_path": "__notebook__.ipynb",
   "output_path": "__notebook__.ipynb",
   "parameters": {},
   "start_time": "2023-12-19T02:58:18.058743",
   "version": "2.4.0"
  }
 },
 "nbformat": 4,
 "nbformat_minor": 5
}
